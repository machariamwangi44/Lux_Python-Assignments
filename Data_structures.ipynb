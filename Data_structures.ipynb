{
 "cells": [
  {
   "cell_type": "markdown",
   "id": "6ad4575d",
   "metadata": {},
   "source": [
    "#### Data Structures\n",
    "- Sets\n",
    "- Dictionaries\n",
    "- Lists\n",
    "- Tuples\n"
   ]
  },
  {
   "cell_type": "markdown",
   "id": "4d88e2d1",
   "metadata": {},
   "source": [
    "#### 1.Lists\n",
    "- Lists are ordered, mutable (can be changed), and can hold different data types"
   ]
  },
  {
   "cell_type": "markdown",
   "id": "440d3126",
   "metadata": {},
   "source": [
    "##### Add an item to the list\n",
    "- use append\n"
   ]
  },
  {
   "cell_type": "code",
   "execution_count": 13,
   "id": "b9d5661d",
   "metadata": {},
   "outputs": [
    {
     "data": {
      "text/plain": [
       "['apple', 'banana', 'cherry', 'mango']"
      ]
     },
     "execution_count": 13,
     "metadata": {},
     "output_type": "execute_result"
    }
   ],
   "source": [
    "fruits = [\"apple\",\"banana\",\"cherry\"]\n",
    "#add item to the list\n",
    "fruits.append(\"mango\")\n",
    "fruits"
   ]
  },
  {
   "cell_type": "markdown",
   "id": "e54c8acc",
   "metadata": {},
   "source": [
    "#### Removing an item from the list\n",
    "- remove - removes using the value\n",
    "- pop  - removes using the index"
   ]
  },
  {
   "cell_type": "code",
   "execution_count": 14,
   "id": "4f157c3f",
   "metadata": {},
   "outputs": [
    {
     "data": {
      "text/plain": [
       "['apple', 'cherry', 'mango']"
      ]
     },
     "execution_count": 14,
     "metadata": {},
     "output_type": "execute_result"
    }
   ],
   "source": [
    "fruits.pop(1)\n",
    "fruits"
   ]
  },
  {
   "cell_type": "code",
   "execution_count": 17,
   "id": "59419ca2",
   "metadata": {},
   "outputs": [
    {
     "data": {
      "text/plain": [
       "['cherry']"
      ]
     },
     "execution_count": 17,
     "metadata": {},
     "output_type": "execute_result"
    }
   ],
   "source": [
    "fruits.remove(\"apple\")\n",
    "fruits"
   ]
  },
  {
   "cell_type": "markdown",
   "id": "f210f438",
   "metadata": {},
   "source": [
    "#### 2.Tuples\n",
    "- cannot be changed(immutable) ordered like a list denoted using ()\n"
   ]
  },
  {
   "cell_type": "code",
   "execution_count": 23,
   "id": "6ce8547b",
   "metadata": {},
   "outputs": [
    {
     "data": {
      "text/plain": [
       "1"
      ]
     },
     "execution_count": 23,
     "metadata": {},
     "output_type": "execute_result"
    }
   ],
   "source": [
    "image_pixels = (1920,1080)\n",
    "# how many times the value appears in a list\n",
    "image_pixels.count(1080)"
   ]
  },
  {
   "cell_type": "code",
   "execution_count": null,
   "id": "2ed4079c",
   "metadata": {},
   "outputs": [
    {
     "data": {
      "text/plain": [
       "0"
      ]
     },
     "execution_count": 24,
     "metadata": {},
     "output_type": "execute_result"
    }
   ],
   "source": [
    "# returns the index of the value\n",
    "image_pixels.index(1920)"
   ]
  },
  {
   "cell_type": "code",
   "execution_count": null,
   "id": "d62e2230",
   "metadata": {},
   "outputs": [
    {
     "data": {
      "text/plain": [
       "1080"
      ]
     },
     "execution_count": 25,
     "metadata": {},
     "output_type": "execute_result"
    }
   ],
   "source": [
    "#finds the value in that index\n",
    "image_pixels[1]"
   ]
  },
  {
   "cell_type": "markdown",
   "id": "7266bb50",
   "metadata": {},
   "source": [
    "#### 3. Sets\n",
    "- unordered, mutable, denoted by {}\n",
    "- Do not take duplicates\n",
    "- set methods: intersection, union"
   ]
  },
  {
   "cell_type": "code",
   "execution_count": 27,
   "id": "9e80e125",
   "metadata": {},
   "outputs": [],
   "source": [
    "set1 = {5,7,6,8,4}\n",
    "set2 = {1,2,3,4,9}"
   ]
  },
  {
   "cell_type": "code",
   "execution_count": 28,
   "id": "54253aa0",
   "metadata": {},
   "outputs": [
    {
     "data": {
      "text/plain": [
       "{4}"
      ]
     },
     "execution_count": 28,
     "metadata": {},
     "output_type": "execute_result"
    }
   ],
   "source": [
    "#shows the shared value between the two sets\n",
    "set3 = set1.intersection(set2)\n",
    "set3"
   ]
  },
  {
   "cell_type": "code",
   "execution_count": null,
   "id": "e11fb2f4",
   "metadata": {},
   "outputs": [
    {
     "data": {
      "text/plain": [
       "{1, 2, 3, 4, 5, 6, 7, 8, 9}"
      ]
     },
     "execution_count": 29,
     "metadata": {},
     "output_type": "execute_result"
    }
   ],
   "source": [
    "#does not take duplicates\n",
    "set4 = set1.union(set2)\n",
    "set4"
   ]
  },
  {
   "cell_type": "markdown",
   "id": "22464397",
   "metadata": {},
   "source": [
    "#### 4. Dictionaries\n",
    "- denoted by {}\n",
    "- stores key pair values\n",
    "- mutable"
   ]
  },
  {
   "cell_type": "code",
   "execution_count": 30,
   "id": "12e76e22",
   "metadata": {},
   "outputs": [],
   "source": [
    "person = {\n",
    "    \"name\":\"Mercy\",\n",
    "    \"age\": 22,\n",
    "    \"fruit\": \"melon\"\n",
    "}"
   ]
  },
  {
   "cell_type": "code",
   "execution_count": 31,
   "id": "15192a30",
   "metadata": {},
   "outputs": [
    {
     "data": {
      "text/plain": [
       "{'name': 'Mercy', 'age': 22, 'fruit': 'melon'}"
      ]
     },
     "execution_count": 31,
     "metadata": {},
     "output_type": "execute_result"
    }
   ],
   "source": [
    "person"
   ]
  },
  {
   "cell_type": "code",
   "execution_count": 36,
   "id": "adade04a",
   "metadata": {},
   "outputs": [],
   "source": [
    "data = {\n",
    "    \"name\":[\"Ian\",\"Ken\",\"Gloria\",\"Suzzie\",\"Melissa\"],\n",
    "    \"age\":[22,21,22,23,24],\n",
    "    \"fruits\":[\"apple\",\"orange\",\"cherry\",\"mango\",\"grapes\"]\n",
    "}"
   ]
  },
  {
   "cell_type": "code",
   "execution_count": null,
   "id": "85707ec2",
   "metadata": {},
   "outputs": [
    {
     "data": {
      "text/html": [
       "<div>\n",
       "<style scoped>\n",
       "    .dataframe tbody tr th:only-of-type {\n",
       "        vertical-align: middle;\n",
       "    }\n",
       "\n",
       "    .dataframe tbody tr th {\n",
       "        vertical-align: top;\n",
       "    }\n",
       "\n",
       "    .dataframe thead th {\n",
       "        text-align: right;\n",
       "    }\n",
       "</style>\n",
       "<table border=\"1\" class=\"dataframe\">\n",
       "  <thead>\n",
       "    <tr style=\"text-align: right;\">\n",
       "      <th></th>\n",
       "      <th>name</th>\n",
       "      <th>age</th>\n",
       "      <th>fruits</th>\n",
       "    </tr>\n",
       "  </thead>\n",
       "  <tbody>\n",
       "    <tr>\n",
       "      <th>0</th>\n",
       "      <td>Ian</td>\n",
       "      <td>22</td>\n",
       "      <td>apple</td>\n",
       "    </tr>\n",
       "    <tr>\n",
       "      <th>1</th>\n",
       "      <td>Ken</td>\n",
       "      <td>21</td>\n",
       "      <td>orange</td>\n",
       "    </tr>\n",
       "    <tr>\n",
       "      <th>2</th>\n",
       "      <td>Gloria</td>\n",
       "      <td>22</td>\n",
       "      <td>cherry</td>\n",
       "    </tr>\n",
       "    <tr>\n",
       "      <th>3</th>\n",
       "      <td>Suzzie</td>\n",
       "      <td>23</td>\n",
       "      <td>mango</td>\n",
       "    </tr>\n",
       "    <tr>\n",
       "      <th>4</th>\n",
       "      <td>Melissa</td>\n",
       "      <td>24</td>\n",
       "      <td>grapes</td>\n",
       "    </tr>\n",
       "  </tbody>\n",
       "</table>\n",
       "</div>"
      ],
      "text/plain": [
       "      name  age  fruits\n",
       "0      Ian   22   apple\n",
       "1      Ken   21  orange\n",
       "2   Gloria   22  cherry\n",
       "3   Suzzie   23   mango\n",
       "4  Melissa   24  grapes"
      ]
     },
     "execution_count": 37,
     "metadata": {},
     "output_type": "execute_result"
    }
   ],
   "source": [
    "#pandas is a python library used for working with tabular data\n",
    "import pandas as pd\n",
    "# dataframe- a table in python\n",
    "df= pd.DataFrame(data) \n",
    "#df.head - used to preview the first rows of a data frame\n",
    "df.head()"
   ]
  }
 ],
 "metadata": {
  "kernelspec": {
   "display_name": "Python 3",
   "language": "python",
   "name": "python3"
  },
  "language_info": {
   "codemirror_mode": {
    "name": "ipython",
    "version": 3
   },
   "file_extension": ".py",
   "mimetype": "text/x-python",
   "name": "python",
   "nbconvert_exporter": "python",
   "pygments_lexer": "ipython3",
   "version": "3.13.7"
  }
 },
 "nbformat": 4,
 "nbformat_minor": 5
}
