{
 "cells": [
  {
   "cell_type": "markdown",
   "id": "b3e14819",
   "metadata": {},
   "source": [
    "#### Data Types"
   ]
  },
  {
   "cell_type": "code",
   "execution_count": 2,
   "id": "9d41db17",
   "metadata": {},
   "outputs": [],
   "source": [
    "x =10\n",
    "y =20\n",
    "z = 3"
   ]
  },
  {
   "cell_type": "code",
   "execution_count": 17,
   "id": "93cace44",
   "metadata": {},
   "outputs": [
    {
     "data": {
      "text/plain": [
       "int"
      ]
     },
     "execution_count": 17,
     "metadata": {},
     "output_type": "execute_result"
    }
   ],
   "source": [
    "type(x)"
   ]
  },
  {
   "cell_type": "code",
   "execution_count": 18,
   "id": "6902906d",
   "metadata": {},
   "outputs": [],
   "source": [
    "name = 'Mercy'"
   ]
  },
  {
   "cell_type": "code",
   "execution_count": 19,
   "id": "48ac0365",
   "metadata": {},
   "outputs": [
    {
     "data": {
      "text/plain": [
       "str"
      ]
     },
     "execution_count": 19,
     "metadata": {},
     "output_type": "execute_result"
    }
   ],
   "source": [
    "type(name)"
   ]
  },
  {
   "cell_type": "markdown",
   "id": "31d3342e",
   "metadata": {},
   "source": [
    "#### Formatted string\n",
    "allows you to combine different data types in your output"
   ]
  },
  {
   "cell_type": "code",
   "execution_count": null,
   "id": "564a199c",
   "metadata": {},
   "outputs": [],
   "source": [
    "year_of_birth = int(input(\"Enter your year of birth: \"))\n",
    "age = 2025 - year_of_birth\n",
    "print(f\"I am {age} years old\")"
   ]
  },
  {
   "cell_type": "code",
   "execution_count": null,
   "id": "3fb2b440",
   "metadata": {},
   "outputs": [
    {
     "data": {
      "text/plain": [
       "1000"
      ]
     },
     "execution_count": 10,
     "metadata": {},
     "output_type": "execute_result"
    }
   ],
   "source": [
    "#power\n",
    "\n",
    "x**3"
   ]
  },
  {
   "cell_type": "code",
   "execution_count": null,
   "id": "4adc0988",
   "metadata": {},
   "outputs": [
    {
     "data": {
      "text/plain": [
       "2"
      ]
     },
     "execution_count": 14,
     "metadata": {},
     "output_type": "execute_result"
    }
   ],
   "source": [
    "#modulus -  gives you the remainder after dividing one number with another -rep by %\n",
    "\n",
    "y%z"
   ]
  },
  {
   "cell_type": "markdown",
   "id": "59086cc9",
   "metadata": {},
   "source": [
    "#### Logical operators\n",
    "They include\n",
    "-and\n",
    "-or\n",
    "-not"
   ]
  },
  {
   "cell_type": "markdown",
   "id": "5bd7c5e8",
   "metadata": {},
   "source": [
    "#### Comparison operators\n",
    "- equals to ==\n",
    "- Not equal to !=\n",
    "- greater than  >\n",
    "- less than <\n",
    "- greater than or equal to >=\n",
    "- less than or equal to <="
   ]
  },
  {
   "cell_type": "code",
   "execution_count": 3,
   "id": "cb2f55ec",
   "metadata": {},
   "outputs": [
    {
     "name": "stdout",
     "output_type": "stream",
     "text": [
      "30 100000000000000000000 10\n"
     ]
    }
   ],
   "source": [
    "print(x+y, x**y, x%y)"
   ]
  },
  {
   "cell_type": "code",
   "execution_count": 4,
   "id": "d1590655",
   "metadata": {},
   "outputs": [
    {
     "data": {
      "text/plain": [
       "True"
      ]
     },
     "execution_count": 4,
     "metadata": {},
     "output_type": "execute_result"
    }
   ],
   "source": [
    "# y greater than x and z<5\n",
    "y > x and z<5"
   ]
  },
  {
   "cell_type": "markdown",
   "id": "9e432f0f",
   "metadata": {},
   "source": [
    "#### CONTROL FLOWS\n",
    "1. conditional statements\n",
    "if ... \n",
    "elif\n",
    "else\n",
    "if ...else two conditions\n",
    "if..elif..else multiple conditions\n",
    "\n"
   ]
  },
  {
   "cell_type": "code",
   "execution_count": 9,
   "id": "183c9154",
   "metadata": {},
   "outputs": [
    {
     "name": "stdout",
     "output_type": "stream",
     "text": [
      "Considered a child\n"
     ]
    }
   ],
   "source": [
    "age = int(input(\"Enter your age: \"))\n",
    "\n",
    "if age >= 18:\n",
    "    print(\"Considered an adult\")\n",
    "elif age >=15:\n",
    "    print(\"Considered a teenager\")\n",
    "else:\n",
    "    print(\"Considered a child\")"
   ]
  },
  {
   "cell_type": "markdown",
   "id": "f07f81d2",
   "metadata": {},
   "source": [
    "#### LOOPs\n",
    "- FOR LOOPS -- iterates through every element in a given data structure\n",
    "- WHILE LOOPS -- only when the condition remains true \n"
   ]
  },
  {
   "cell_type": "code",
   "execution_count": 3,
   "id": "60ce9dca",
   "metadata": {},
   "outputs": [
    {
     "name": "stdout",
     "output_type": "stream",
     "text": [
      "melon\n",
      "mango\n",
      "pawpaw\n",
      "apple\n",
      "banana\n"
     ]
    }
   ],
   "source": [
    "#list of fruits\n",
    "fruits = [\"melon\",\"mango\",\"pawpaw\",\"apple\",\"banana\"]\n",
    "for fruit in fruits:\n",
    "    print(fruit)"
   ]
  },
  {
   "cell_type": "code",
   "execution_count": 27,
   "id": "9e7df5dc",
   "metadata": {},
   "outputs": [
    {
     "name": "stdout",
     "output_type": "stream",
     "text": [
      "1 2 3 4 5 6 7 8 9 10 "
     ]
    }
   ],
   "source": [
    "numbers = [1,2,3,4,5,6,7,8,9,10]\n",
    "for number in numbers:\n",
    "    print(number, end = \" \")"
   ]
  },
  {
   "cell_type": "code",
   "execution_count": 2,
   "id": "0fcbfe6b",
   "metadata": {},
   "outputs": [
    {
     "name": "stdout",
     "output_type": "stream",
     "text": [
      "0\n",
      "1\n",
      "2\n",
      "3\n",
      "4\n"
     ]
    }
   ],
   "source": [
    "#while loop\n",
    "# counting from 0 and stop at 5\n",
    "count = 0\n",
    "while count < 5:\n",
    "    print(count)\n",
    "    count +=1\n"
   ]
  },
  {
   "cell_type": "markdown",
   "id": "240f87be",
   "metadata": {},
   "source": [
    "#### control flow statements\n",
    "#### break, continue and pass\n",
    "\n",
    "- **Break** -terminate a loop\n",
    "- **Continue** - Skips the condition in the iteration\n",
    "- **Pass** - Does nothing\n",
    "\n"
   ]
  },
  {
   "cell_type": "code",
   "execution_count": null,
   "id": "99faf72a",
   "metadata": {},
   "outputs": [
    {
     "name": "stdout",
     "output_type": "stream",
     "text": [
      "1\n",
      "2\n",
      "3\n",
      "4\n"
     ]
    }
   ],
   "source": [
    "#Break\n",
    "for num in numbers:\n",
    "    if num >=5:\n",
    "        break\n",
    "    print(num)"
   ]
  },
  {
   "cell_type": "code",
   "execution_count": 35,
   "id": "23885e64",
   "metadata": {},
   "outputs": [
    {
     "name": "stdout",
     "output_type": "stream",
     "text": [
      "1\n",
      "2\n",
      "3\n",
      "4\n"
     ]
    }
   ],
   "source": [
    "#continue\n",
    "for num in numbers:\n",
    "    if num >=5:\n",
    "        continue\n",
    "    print(num)"
   ]
  },
  {
   "cell_type": "code",
   "execution_count": 36,
   "id": "547783b1",
   "metadata": {},
   "outputs": [
    {
     "name": "stdout",
     "output_type": "stream",
     "text": [
      "1\n",
      "2\n",
      "3\n",
      "4\n",
      "5\n",
      "6\n",
      "7\n",
      "8\n",
      "9\n",
      "10\n"
     ]
    }
   ],
   "source": [
    "#pass\n",
    "for num in numbers:\n",
    "    if num >=5:\n",
    "        pass\n",
    "    print(num)"
   ]
  },
  {
   "cell_type": "markdown",
   "id": "cc80cb6e",
   "metadata": {},
   "source": [
    "### List Comprehensions\n",
    "easier way of creating list from loops\n"
   ]
  },
  {
   "cell_type": "code",
   "execution_count": 38,
   "id": "15fc1a25",
   "metadata": {},
   "outputs": [
    {
     "name": "stdout",
     "output_type": "stream",
     "text": [
      "[0, 2, 4, 6, 8, 10]\n"
     ]
    }
   ],
   "source": [
    "even_numbers = [i for i in range(0,11) if i%2 ==0]\n",
    "print(even_numbers)"
   ]
  },
  {
   "cell_type": "code",
   "execution_count": 39,
   "id": "4524d9ae",
   "metadata": {},
   "outputs": [
    {
     "name": "stdout",
     "output_type": "stream",
     "text": [
      "[0, 1, 4, 9, 16, 25, 36, 49, 64, 81, 100, 121, 144, 169, 196, 225, 256, 289, 324, 361, 400, 441, 484, 529, 576, 625]\n"
     ]
    }
   ],
   "source": [
    "square_numbers = [i**2 for i in range (0,26)]\n",
    "print(square_numbers)"
   ]
  },
  {
   "cell_type": "code",
   "execution_count": 4,
   "id": "5bfa47a0",
   "metadata": {},
   "outputs": [
    {
     "name": "stdout",
     "output_type": "stream",
     "text": [
      "[1, 3, 5, 7, 9, 11, 13, 15, 17, 19, 21, 23, 25, 27, 29, 31, 33, 35, 37, 39, 41, 43, 45, 47, 49]\n"
     ]
    }
   ],
   "source": [
    "odd_numbers = [i for i in range(0,51) if i%2 !=0]\n",
    "print(odd_numbers)"
   ]
  },
  {
   "cell_type": "markdown",
   "id": "f332cf61",
   "metadata": {},
   "source": [
    "### Function\n",
    "A block of reusable code"
   ]
  },
  {
   "cell_type": "code",
   "execution_count": 44,
   "id": "6d060732",
   "metadata": {},
   "outputs": [],
   "source": [
    "def add(x,y):\n",
    "    return x +y"
   ]
  },
  {
   "cell_type": "code",
   "execution_count": 47,
   "id": "17bbe0fa",
   "metadata": {},
   "outputs": [
    {
     "name": "stdout",
     "output_type": "stream",
     "text": [
      "5\n"
     ]
    }
   ],
   "source": [
    "add1 = add(2,3)\n",
    "print(add1)"
   ]
  },
  {
   "cell_type": "code",
   "execution_count": 48,
   "id": "62f3408f",
   "metadata": {},
   "outputs": [],
   "source": [
    "#function to multiply 3 numbers\n",
    "def multiply(x,y,z):\n",
    "    return (x*y*z)"
   ]
  },
  {
   "cell_type": "code",
   "execution_count": 49,
   "id": "e8c32b79",
   "metadata": {},
   "outputs": [
    {
     "name": "stdout",
     "output_type": "stream",
     "text": [
      "120\n"
     ]
    }
   ],
   "source": [
    "result = multiply(4,5,6)\n",
    "print(result)"
   ]
  },
  {
   "cell_type": "code",
   "execution_count": 5,
   "id": "76eb9a19",
   "metadata": {},
   "outputs": [],
   "source": [
    "def greet(name):\n",
    "\n",
    "    return f\"Hello {name}\""
   ]
  },
  {
   "cell_type": "code",
   "execution_count": 7,
   "id": "5f703067",
   "metadata": {},
   "outputs": [
    {
     "data": {
      "text/plain": [
       "'Hello Ian'"
      ]
     },
     "execution_count": 7,
     "metadata": {},
     "output_type": "execute_result"
    }
   ],
   "source": [
    "name1 = greet(\"Ian\")\n",
    "name1"
   ]
  },
  {
   "cell_type": "code",
   "execution_count": 8,
   "id": "f7adb97a",
   "metadata": {},
   "outputs": [],
   "source": [
    "def plus():\n",
    "    first_number = int(input(\"Enter your first number\"))\n",
    "    second_number = int(input(\"Enter your second number\"))\n",
    "    return first_number + second_number"
   ]
  },
  {
   "cell_type": "code",
   "execution_count": 10,
   "id": "55b45b8a",
   "metadata": {},
   "outputs": [
    {
     "data": {
      "text/plain": [
       "44"
      ]
     },
     "execution_count": 10,
     "metadata": {},
     "output_type": "execute_result"
    }
   ],
   "source": [
    "plus1 = plus()\n",
    "plus1\n"
   ]
  },
  {
   "cell_type": "code",
   "execution_count": 12,
   "id": "670c064b",
   "metadata": {},
   "outputs": [
    {
     "data": {
      "text/plain": [
       "0.01004095653322764"
      ]
     },
     "execution_count": 12,
     "metadata": {},
     "output_type": "execute_result"
    }
   ],
   "source": [
    "def bmi():\n",
    "    weight_of_p =float(input(\"Enter your weight:\"))\n",
    "    height_of_p = float(input(\"Enter your height in cm:\"))\n",
    "    return(weight_of_p/(height_of_p*height_of_p))\n",
    "\n",
    "bmi1 = bmi()\n",
    "bmi1"
   ]
  },
  {
   "cell_type": "markdown",
   "id": "e04d5829",
   "metadata": {},
   "source": [
    "#### Lambda functions\n",
    "- simple one line functions"
   ]
  },
  {
   "cell_type": "code",
   "execution_count": 13,
   "id": "38114118",
   "metadata": {},
   "outputs": [],
   "source": [
    "product = lambda x,y,z:  x*y*z"
   ]
  },
  {
   "cell_type": "code",
   "execution_count": 14,
   "id": "b53704ef",
   "metadata": {},
   "outputs": [
    {
     "data": {
      "text/plain": [
       "1800"
      ]
     },
     "execution_count": 14,
     "metadata": {},
     "output_type": "execute_result"
    }
   ],
   "source": [
    "product1 = product(10,20,9)\n",
    "product1"
   ]
  },
  {
   "cell_type": "code",
   "execution_count": 16,
   "id": "26fa7a9a",
   "metadata": {},
   "outputs": [],
   "source": [
    "#write a lambda function to greet you\n",
    "greetings = lambda name: f\"hello {name}\""
   ]
  },
  {
   "cell_type": "code",
   "execution_count": 17,
   "id": "fd163613",
   "metadata": {},
   "outputs": [
    {
     "data": {
      "text/plain": [
       "'hello Ian'"
      ]
     },
     "execution_count": 17,
     "metadata": {},
     "output_type": "execute_result"
    }
   ],
   "source": [
    "greetings1 = greetings(\"Ian\")\n",
    "greetings1"
   ]
  },
  {
   "cell_type": "code",
   "execution_count": 30,
   "id": "ef723dfe",
   "metadata": {},
   "outputs": [],
   "source": [
    "# a function to check if a number is even or odd\n",
    "def number_checker():\n",
    "    num = int(input(\"enter your number:\"))\n",
    "    if num % 2 == 0:\n",
    "        print(\"even number\")\n",
    "    elif num % 2 != 0:\n",
    "        print(\"Number is odd\")\n",
    "    else:\n",
    "        print(\"sorry\")\n",
    "    \n",
    "    \n",
    "\n",
    "\n",
    "    "
   ]
  },
  {
   "cell_type": "code",
   "execution_count": 33,
   "id": "f9e3656d",
   "metadata": {},
   "outputs": [
    {
     "name": "stdout",
     "output_type": "stream",
     "text": [
      "Number is odd\n"
     ]
    }
   ],
   "source": [
    "number1 = number_checker()\n",
    "number1"
   ]
  },
  {
   "cell_type": "code",
   "execution_count": null,
   "id": "fbd4ccb5",
   "metadata": {},
   "outputs": [],
   "source": []
  }
 ],
 "metadata": {
  "kernelspec": {
   "display_name": "Python 3",
   "language": "python",
   "name": "python3"
  },
  "language_info": {
   "codemirror_mode": {
    "name": "ipython",
    "version": 3
   },
   "file_extension": ".py",
   "mimetype": "text/x-python",
   "name": "python",
   "nbconvert_exporter": "python",
   "pygments_lexer": "ipython3",
   "version": "3.13.7"
  }
 },
 "nbformat": 4,
 "nbformat_minor": 5
}
