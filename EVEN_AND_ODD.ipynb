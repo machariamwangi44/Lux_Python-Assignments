{
 "cells": [
  {
   "cell_type": "code",
   "execution_count": 3,
   "id": "87acedc2",
   "metadata": {},
   "outputs": [],
   "source": [
    "# Write a function that checks if a number is even or odd.\n",
    "def number_checker():\n",
    "    number = int(input(\"Enter a number: \"))\n",
    "    if number % 2 == 0:\n",
    "        return(f\"{number} is an even number\")\n",
    "    elif number % 2 != 0:\n",
    "        return (f\"{number} is an odd number\")\n",
    "    else:\n",
    "        return(\"No number entered\")\n"
   ]
  },
  {
   "cell_type": "code",
   "execution_count": 5,
   "id": "8f12c318",
   "metadata": {},
   "outputs": [
    {
     "data": {
      "text/plain": [
       "'7 is an odd number'"
      ]
     },
     "execution_count": 5,
     "metadata": {},
     "output_type": "execute_result"
    }
   ],
   "source": [
    "number1 = number_checker()\n",
    "number1"
   ]
  }
 ],
 "metadata": {
  "kernelspec": {
   "display_name": "Python 3",
   "language": "python",
   "name": "python3"
  },
  "language_info": {
   "codemirror_mode": {
    "name": "ipython",
    "version": 3
   },
   "file_extension": ".py",
   "mimetype": "text/x-python",
   "name": "python",
   "nbconvert_exporter": "python",
   "pygments_lexer": "ipython3",
   "version": "3.13.7"
  }
 },
 "nbformat": 4,
 "nbformat_minor": 5
}
