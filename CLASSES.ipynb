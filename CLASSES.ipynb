{
 "cells": [
  {
   "cell_type": "markdown",
   "id": "9b335def",
   "metadata": {},
   "source": [
    "#### A Class in Python\n",
    "##### A class is like a blueprint for creating objects\n",
    "-It defines properties (attributes) → like variables inside the class\n",
    "- It defines methods (functions) → behaviors the object can do.\n"
   ]
  },
  {
   "cell_type": "code",
   "execution_count": null,
   "id": "b6526581",
   "metadata": {},
   "outputs": [],
   "source": [
    "class Rectangle:\n",
    "    def __init__(self,length,width):\n",
    "        self.length = length\n",
    "        self.width = width\n",
    "\n",
    "    def area(self):\n",
    "        area = self.length * self.width\n",
    "        return f\"the area of a rectangle of width {self.width} and of lenth {self.length}is {area}\"\n",
    "    \n",
    "    def perimeter(self):\n",
    "        perimeter = 2 *(self.length + self.width)\n",
    "        return f\"the perimeter of a rectangle of width {self.width} and of lenth {self.length} is {perimeter}\"\n"
   ]
  },
  {
   "cell_type": "code",
   "execution_count": 10,
   "id": "f7e7728d",
   "metadata": {},
   "outputs": [
    {
     "name": "stdout",
     "output_type": "stream",
     "text": [
      "the perimeter of a rectangle of width 10 and of lenth 9is 38\n"
     ]
    }
   ],
   "source": [
    "p1 = Rectangle(9,10)\n",
    "print(p1.perimeter())\n"
   ]
  },
  {
   "cell_type": "code",
   "execution_count": null,
   "id": "9351f12c",
   "metadata": {},
   "outputs": [],
   "source": [
    "class circle:\n",
    "    def __init__(self,radius):\n",
    "        self.radius = radius\n",
    "        self.PI = 22/7\n",
    "\n",
    "    def carea(self):\n",
    "        #for constants, they are always in capital letters\n",
    "        carea = self.radius ** 2 * self.PI\n",
    "        return f\"the area of your circle is {carea}\"\n",
    "        \n",
    "\n",
    "    \n",
    "        "
   ]
  },
  {
   "cell_type": "code",
   "execution_count": 13,
   "id": "927c3b2f",
   "metadata": {},
   "outputs": [
    {
     "name": "stdout",
     "output_type": "stream",
     "text": [
      "the area of your circle is 616.0\n"
     ]
    }
   ],
   "source": [
    "circle1 = circle(14)\n",
    "print(circle1.carea())"
   ]
  },
  {
   "cell_type": "code",
   "execution_count": null,
   "id": "3111daa1",
   "metadata": {},
   "outputs": [],
   "source": [
    "#Write a class Car with attributes brand and color. Add a method display() that prints a formatted string.\n",
    "class Car:\n",
    "    def __init__(self,brand,color):\n",
    "        self.brand = brand\n",
    "        self.color = color\n",
    "\n",
    "    def drive(self):\n",
    "        return(f\"The {self.color} {self.brand} is Ian's\")\n",
    "\n"
   ]
  },
  {
   "cell_type": "code",
   "execution_count": 2,
   "id": "8a936fdb",
   "metadata": {},
   "outputs": [
    {
     "name": "stdout",
     "output_type": "stream",
     "text": [
      "The black CX5 is Ian's\n"
     ]
    }
   ],
   "source": [
    "my_car = Car(\"CX5\",\"black\")\n",
    "print(my_car.drive())"
   ]
  }
 ],
 "metadata": {
  "kernelspec": {
   "display_name": "Python 3",
   "language": "python",
   "name": "python3"
  },
  "language_info": {
   "codemirror_mode": {
    "name": "ipython",
    "version": 3
   },
   "file_extension": ".py",
   "mimetype": "text/x-python",
   "name": "python",
   "nbconvert_exporter": "python",
   "pygments_lexer": "ipython3",
   "version": "3.13.7"
  }
 },
 "nbformat": 4,
 "nbformat_minor": 5
}
