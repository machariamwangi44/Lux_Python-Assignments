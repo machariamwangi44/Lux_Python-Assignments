{
 "cells": [
  {
   "cell_type": "markdown",
   "id": "597cada8",
   "metadata": {},
   "source": [
    "##### A Simple Chatbot using While Loop to answer questions about Data Science  & AI"
   ]
  },
  {
   "cell_type": "code",
   "execution_count": 2,
   "id": "e2f210ea",
   "metadata": {},
   "outputs": [],
   "source": [
    "def chatbot():\n",
    "    print(\"Hello! I’m your Data Science & AI chatbot \")\n",
    "    print(\"Ask me anything about data science or AI. Type 'quit' to exit.\\n\")\n",
    "    \n",
    "    while True:\n",
    "        user_input = input(\"You: \").strip().lower()\n",
    "        \n",
    "        if user_input in [\"quit\", \"exit\", \"bye\"]:\n",
    "            print(\"Chatbot: Goodbye! Keep learning AI and data science \")\n",
    "            break\n",
    "        \n",
    "        \n",
    "        elif \"data science\" in user_input:\n",
    "            print(\"Chatbot: Data science is the field of using data, statistics, and algorithms to extract insights and build predictive models.\")\n",
    "        \n",
    "        elif \"ai\" in user_input or \"artificial intelligence\" in user_input:\n",
    "            print(\"Chatbot: AI is the simulation of human intelligence in machines that can think, learn, and make decisions.\")\n",
    "        \n",
    "        elif \"machine learning\" in user_input:\n",
    "            print(\"Chatbot: Machine learning is a subset of AI that uses data and algorithms to allow systems to learn and improve automatically.\")\n",
    "        \n",
    "        elif \"deep learning\" in user_input:\n",
    "            print(\"Chatbot: Deep learning is a type of machine learning using neural networks with many layers to handle complex data like images and speech.\")\n",
    "        \n",
    "        elif \"python\" in user_input:\n",
    "            print(\"Chatbot: Python is the most popular programming language for data science and AI, thanks to libraries like NumPy, Pandas, TensorFlow, and PyTorch.\")\n",
    "        \n",
    "        else:\n",
    "            print(\"Chatbot: Hmm, I don’t know that yet. Try asking about AI, data science, machine learning, or Python!\")"
   ]
  },
  {
   "cell_type": "code",
   "execution_count": 3,
   "id": "b680d858",
   "metadata": {},
   "outputs": [
    {
     "name": "stdout",
     "output_type": "stream",
     "text": [
      "Hello! I’m your Data Science & AI chatbot \n",
      "Ask me anything about data science or AI. Type 'quit' to exit.\n",
      "\n",
      "Chatbot: Goodbye! Keep learning AI and data science \n"
     ]
    }
   ],
   "source": [
    "chatbot()"
   ]
  }
 ],
 "metadata": {
  "kernelspec": {
   "display_name": "Python 3",
   "language": "python",
   "name": "python3"
  },
  "language_info": {
   "codemirror_mode": {
    "name": "ipython",
    "version": 3
   },
   "file_extension": ".py",
   "mimetype": "text/x-python",
   "name": "python",
   "nbconvert_exporter": "python",
   "pygments_lexer": "ipython3",
   "version": "3.13.7"
  }
 },
 "nbformat": 4,
 "nbformat_minor": 5
}
